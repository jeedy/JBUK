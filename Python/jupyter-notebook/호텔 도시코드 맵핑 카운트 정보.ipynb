{
 "cells": [
  {
   "cell_type": "code",
   "execution_count": 2,
   "id": "d8c484a2",
   "metadata": {},
   "outputs": [
    {
     "name": "stdout",
     "output_type": "stream",
     "text": [
      "Requirement already satisfied: Elasticsearch in /opt/conda/lib/python3.9/site-packages (7.16.2)\n",
      "Requirement already satisfied: certifi in /opt/conda/lib/python3.9/site-packages (from Elasticsearch) (2021.10.8)\n",
      "Requirement already satisfied: urllib3<2,>=1.21.1 in /opt/conda/lib/python3.9/site-packages (from Elasticsearch) (1.26.8)\n",
      "<Elasticsearch([{'host': '172.16.101.152', 'port': 9200}])>\n"
     ]
    }
   ],
   "source": [
    "!pip install Elasticsearch\n",
    "\n",
    "from elasticsearch import Elasticsearch\n",
    "es = Elasticsearch(\"http://172.16.101.152:9200/\")\n",
    "print(es)"
   ]
  },
  {
   "cell_type": "markdown",
   "id": "84fa4e9b",
   "metadata": {},
   "source": [
    "### 호텔 데이터중 `위경도(location)` 정보가 있는 갯수 그리고 없는 갯수"
   ]
  },
  {
   "cell_type": "code",
   "execution_count": 13,
   "id": "ddf706a2",
   "metadata": {},
   "outputs": [
    {
     "name": "stdout",
     "output_type": "stream",
     "text": [
      "전체 호텔수: 354500\n",
      "위경도 있는 호텔수: 341824\n",
      "위경도 없는 호텔수: 12676\n"
     ]
    }
   ],
   "source": [
    "res = es.count(index=\"p-hotel-kimjy\")\n",
    "print(\"전체 호텔수: %s\" %res[\"count\"])\n",
    "\n",
    "body = {\n",
    "  \"query\": {\n",
    "    \"constant_score\": {\n",
    "      \"filter\": {\n",
    "        \"exists\": {\n",
    "          \"field\": \"location\"\n",
    "        }\n",
    "      }\n",
    "    }\n",
    "  }\n",
    "}\n",
    "res = es.count(index=\"p-hotel-kimjy\", body=body)\n",
    "print(\"위경도 있는 호텔수: %s\" %res[\"count\"])\n",
    "\n",
    "body = {\n",
    "  \"query\": {\n",
    "    \"bool\": {\n",
    "      \"must_not\": {\n",
    "        \"exists\": {\n",
    "          \"field\": \"location\"\n",
    "        }\n",
    "      }\n",
    "    }\n",
    "  }\n",
    "}\n",
    "res = es.count(index=\"p-hotel-kimjy\", body=body)\n",
    "print(\"위경도 없는 호텔수: %s\" %res[\"count\"])"
   ]
  },
  {
   "cell_type": "markdown",
   "id": "f9116a13",
   "metadata": {},
   "source": [
    "### 도시코드 데이터 가지고 있는 호텔 갯수"
   ]
  },
  {
   "cell_type": "code",
   "execution_count": 24,
   "id": "e6e51a7a",
   "metadata": {
    "scrolled": true
   },
   "outputs": [
    {
     "name": "stdout",
     "output_type": "stream",
     "text": [
      "도시 코드 있는 호텔수: 15801\n"
     ]
    }
   ],
   "source": [
    "query={\n",
    "    \"bool\":{\n",
    "        \"must\":{\n",
    "            \"exists\": {\n",
    "              \"field\": \"iso3166-2\"\n",
    "            }\n",
    "        }\n",
    "    }\n",
    "}\n",
    "# res = es.search(index=\"p-hotel-kimjy\", query=query)\n",
    "# print(res)\n",
    "\n",
    "body = {\n",
    "    \"query\": query\n",
    "}\n",
    "res = es.count(index=\"p-hotel-kimjy\", body=body)\n",
    "print(\"도시 코드 있는 호텔수: %s\" %res[\"count\"])\n"
   ]
  }
 ],
 "metadata": {
  "kernelspec": {
   "display_name": "Python 3 (ipykernel)",
   "language": "python",
   "name": "python3"
  },
  "language_info": {
   "codemirror_mode": {
    "name": "ipython",
    "version": 3
   },
   "file_extension": ".py",
   "mimetype": "text/x-python",
   "name": "python",
   "nbconvert_exporter": "python",
   "pygments_lexer": "ipython3",
   "version": "3.9.7"
  }
 },
 "nbformat": 4,
 "nbformat_minor": 5
}
