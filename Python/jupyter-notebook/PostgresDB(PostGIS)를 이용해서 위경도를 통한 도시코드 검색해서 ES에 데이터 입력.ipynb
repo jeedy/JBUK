{
 "cells": [
  {
   "cell_type": "markdown",
   "id": "a389f206",
   "metadata": {},
   "source": [
    "# PostgresDB (PostGIS)를 이용해서 호텔 위경도를 통한 도시코드 입력\n",
    "\n",
    "필수 라이브러리 설치 및 필요한 function 정의"
   ]
  },
  {
   "cell_type": "code",
   "execution_count": 3,
   "id": "03246414",
   "metadata": {},
   "outputs": [
    {
     "name": "stdout",
     "output_type": "stream",
     "text": [
      "Requirement already satisfied: psycopg in /opt/conda/lib/python3.9/site-packages (3.0.8)\r\n"
     ]
    }
   ],
   "source": [
    "!pip install psycopg"
   ]
  },
  {
   "cell_type": "code",
   "execution_count": 38,
   "id": "e0c3f480",
   "metadata": {},
   "outputs": [
    {
     "name": "stdout",
     "output_type": "stream",
     "text": [
      "<psycopg.Connection [IDLE] (host=postgresql서버IP user=postgres database=template1) at 0x7fda57a7eb50>\n"
     ]
    }
   ],
   "source": [
    "import psycopg\n",
    "\n",
    "db = psycopg.connect(host='postgresql서버IP', dbname='template1', user='postgres', password='postgres1234', port=5432)\n",
    "print(db)\n",
    "\n",
    "# 검색 쿼리 return rows(type list)\n",
    "def select(query):\n",
    "    try:\n",
    "        with db.cursor() as cur:\n",
    "            cur.execute(query, None)\n",
    "            result= cur.fetchall()\n",
    "    except Exception as e:\n",
    "        result = (\"[ERROR] read DB err: \",e)\n",
    "    return result\n",
    "\n",
    "def update(query):\n",
    "    try:\n",
    "        with db.cursor() as cur:\n",
    "            result = cur.execute(query, None)\n",
    "            db.commit()\n",
    "    except Exception as e:\n",
    "        result = (\"[ERROR] update DB err: \",e)\n",
    "    return result\n",
    "\n"
   ]
  },
  {
   "cell_type": "markdown",
   "id": "0c5828c8",
   "metadata": {},
   "source": [
    "## 호텔 테이블(htl_mast) 에 위경도 가져오기\n",
    "\n",
    "- 대상 테이블: htl_mast\n"
   ]
  },
  {
   "cell_type": "code",
   "execution_count": 39,
   "id": "8b2f6d58",
   "metadata": {},
   "outputs": [
    {
     "name": "stdout",
     "output_type": "stream",
     "text": [
      "idx = 1 , rows count= 0\n"
     ]
    }
   ],
   "source": [
    "idx = 0\n",
    "while True :\n",
    "    idx += 1\n",
    "    query=\"select hm.htl_master_id, hm.htl_name_kr, hm.latitude, hm.longitude from htl_mast hm limit 100\"\n",
    "    rows = select(query)\n",
    "    print(\"idx = %s , rows count= %s\"%(idx, len(rows)))\n",
    "    \n",
    "    # select 된 값이 없다면 while exit\n",
    "    if len(rows) == 0:\n",
    "        break\n",
    "    \n",
    "    # select 된 값이 있다면 update\n",
    "    for obj in rows:\n",
    "        print(obj)\n",
    "        updateQuery=\"\"\n",
    "        # update(updateQuery)\n",
    "\n"
   ]
  },
  {
   "cell_type": "code",
   "execution_count": null,
   "id": "27ee97de",
   "metadata": {},
   "outputs": [],
   "source": []
  }
 ],
 "metadata": {
  "kernelspec": {
   "display_name": "Python 3",
   "language": "python",
   "name": "python3"
  },
  "language_info": {
   "codemirror_mode": {
    "name": "ipython",
    "version": 3
   },
   "file_extension": ".py",
   "mimetype": "text/x-python",
   "name": "python",
   "nbconvert_exporter": "python",
   "pygments_lexer": "ipython3",
   "version": "3.8.2"
  },
  "vscode": {
   "interpreter": {
    "hash": "31f2aee4e71d21fbe5cf8b01ff0e069b9275f58929596ceb00d14d90e3e16cd6"
   }
  }
 },
 "nbformat": 4,
 "nbformat_minor": 5
}
