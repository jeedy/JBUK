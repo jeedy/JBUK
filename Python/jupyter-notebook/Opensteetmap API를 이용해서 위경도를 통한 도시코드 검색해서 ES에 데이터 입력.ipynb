{
 "cells": [
  {
   "cell_type": "markdown",
   "id": "a389f206",
   "metadata": {},
   "source": [
    "# OpenStreetMap.org API 이용해서 위경도를 통한 도시코드 검색\n",
    "\n",
    "참고자료:\n",
    "1. http://daplus.net/geolocation-%EC%9C%84%EB%8F%84-%EA%B2%BD%EB%8F%84-%EC%A2%8C%ED%91%9C%EA%B0%80-%EC%A3%BC%EC%96%B4%EC%A7%80%EB%A9%B4-%EB%8F%84%EC%8B%9C-%EA%B5%AD%EA%B0%80%EB%A5%BC-%EC%96%B4%EB%96%BB%EA%B2%8C/\n",
    "\n",
    "1. https://www.openstreetmap.org\n",
    "\n",
    "\n",
    "1. https://geopy.readthedocs.io/en/stable/"
   ]
  },
  {
   "cell_type": "markdown",
   "id": "ad0d056b",
   "metadata": {},
   "source": [
    "오픈 소스 대안은 Open Street Map의 Nominatim입니다. URL에 변수를 설정하기 만하면 해당 위치의 도시 / 국가가 반환됩니다. \n",
    "공식 문서는 다음 링크를 확인하십시오 : [Nominatim](https://wiki.openstreetmap.org/wiki/Nominatim#Reverse_Geocoding)\n",
    "\n"
   ]
  },
  {
   "cell_type": "markdown",
   "id": "cd795d0a",
   "metadata": {},
   "source": [
    "### geopy 모듈를 이용해서 위경도 검색\n",
    "\n",
    "[geppy](https://geopy.readthedocs.io/en/stable/)\n",
    "\n",
    "[Nominatim Document](https://nominatim.org/release-docs/develop/api/Search/#parameters)"
   ]
  },
  {
   "cell_type": "code",
   "execution_count": 69,
   "id": "38bfdcf5",
   "metadata": {
    "scrolled": true
   },
   "outputs": [
    {
     "name": "stdout",
     "output_type": "stream",
     "text": [
      "Requirement already satisfied: geopy in /opt/conda/lib/python3.9/site-packages (2.2.0)\n",
      "Requirement already satisfied: geographiclib<2,>=1.49 in /opt/conda/lib/python3.9/site-packages (from geopy) (1.52)\n",
      "Note: you may need to restart the kernel to use updated packages.\n"
     ]
    }
   ],
   "source": [
    "pip install geopy"
   ]
  },
  {
   "cell_type": "code",
   "execution_count": 70,
   "id": "ff6b3960",
   "metadata": {},
   "outputs": [
    {
     "name": "stdout",
     "output_type": "stream",
     "text": [
      "raw:  {'place_id': 95534969, 'licence': 'Data © OpenStreetMap contributors, ODbL 1.0. https://osm.org/copyright', 'osm_type': 'way', 'osm_id': 5013364, 'lat': '48.858260200000004', 'lon': '2.2944990543196795', 'display_name': 'Tour Eiffel, 5, Avenue Anatole France, Quartier du Gros-Caillou, Paris 7e Arrondissement, Paris, Île-de-France, France métropolitaine, 75007, France', 'address': {'tourism': 'Tour Eiffel', 'house_number': '5', 'road': 'Avenue Anatole France', 'city_block': 'Quartier du Gros-Caillou', 'suburb': 'Paris 7e Arrondissement', 'city_district': 'Paris', 'county': 'Paris', 'state': 'Île-de-France', 'region': 'France métropolitaine', 'postcode': '75007', 'country': 'France', 'country_code': 'fr'}, 'boundingbox': ['48.8574753', '48.8590453', '2.2933084', '2.2956897']}\n"
     ]
    }
   ],
   "source": [
    "from geopy.geocoders import Nominatim\n",
    "\n",
    "geolocator = Nominatim(user_agent=\"jeeedy\")\n",
    "location = geolocator.reverse(\"48.8588443, 2.2943506\")\n",
    "print(\"raw: \",location.raw)"
   ]
  },
  {
   "cell_type": "code",
   "execution_count": 71,
   "id": "c8d96af5",
   "metadata": {},
   "outputs": [
    {
     "name": "stdout",
     "output_type": "stream",
     "text": [
      "Requirement already satisfied: Elasticsearch in /opt/conda/lib/python3.9/site-packages (7.16.2)\r\n",
      "Requirement already satisfied: urllib3<2,>=1.21.1 in /opt/conda/lib/python3.9/site-packages (from Elasticsearch) (1.26.8)\r\n",
      "Requirement already satisfied: certifi in /opt/conda/lib/python3.9/site-packages (from Elasticsearch) (2021.10.8)\r\n"
     ]
    }
   ],
   "source": [
    "!pip install Elasticsearch\n",
    "\n",
    "from elasticsearch import Elasticsearch"
   ]
  },
  {
   "cell_type": "code",
   "execution_count": 78,
   "id": "44eccff1",
   "metadata": {},
   "outputs": [
    {
     "name": "stdout",
     "output_type": "stream",
     "text": [
      "<Elasticsearch([{'host': '172.16.101.152', 'port': 9200}])>\n"
     ]
    }
   ],
   "source": [
    "es = Elasticsearch(\"http://172.16.101.152:9200/\")\n",
    "print(es)"
   ]
  },
  {
   "cell_type": "markdown",
   "id": "b504bb95",
   "metadata": {},
   "source": [
    "- 총 호텔 갯수 = 354,500\n",
    "- 10개 호텔 = 약 5 sec\n",
    "- 10000 개 호텔 = 약 1.3 h (elasticsearch api 최대 검색 갯수)\n"
   ]
  },
  {
   "cell_type": "code",
   "execution_count": 82,
   "id": "8b2f6d58",
   "metadata": {},
   "outputs": [
    {
     "name": "stdout",
     "output_type": "stream",
     "text": [
      "# 시작 시간 2022-01-21 01:25:51.933309\n",
      "## cnt= 1\n",
      "## geo Search start [id=7916, lat=41.99626, long=21.55224, title=호텔 벨뷰] ##\n",
      "response status 200: https://nominatim.openstreetmap.org/reverse.php?lat=41.99626&lon=21.55224&zoom=5&format=geojson&accept-language=en&extratags=1\n",
      "{'type': 'FeatureCollection', 'licence': 'Data © OpenStreetMap contributors, ODbL 1.0. https://osm.org/copyright', 'features': [{'type': 'Feature', 'properties': {'place_id': 282690705, 'osm_type': 'relation', 'osm_id': 2460455, 'place_rank': 8, 'category': 'boundary', 'type': 'administrative', 'importance': 0.40206279738389133, 'addresstype': 'state', 'name': 'Skopje Region', 'display_name': 'Skopje Region, North Macedonia', 'address': {'state': 'Skopje Region', 'country': 'North Macedonia', 'country_code': 'mk'}, 'extratags': {'wikidata': 'Q21115'}}, 'bbox': [21.1498886, 41.7037948, 21.8213797, 42.2491922], 'geometry': {'type': 'Point', 'coordinates': [21.462439778839435, 41.97656105]}}]} \n",
      "\n",
      "5 zooom extratags={'wikidata': 'Q21115'}\n",
      "5 zoom 도시코드: None \n",
      "\n",
      "response status 200: https://nominatim.openstreetmap.org/reverse.php?lat=41.99626&lon=21.55224&zoom=6&format=geojson&accept-language=en&extratags=1\n",
      "{'type': 'FeatureCollection', 'licence': 'Data © OpenStreetMap contributors, ODbL 1.0. https://osm.org/copyright', 'features': [{'type': 'Feature', 'properties': {'place_id': 282690705, 'osm_type': 'relation', 'osm_id': 2460455, 'place_rank': 8, 'category': 'boundary', 'type': 'administrative', 'importance': 0.40206279738389133, 'addresstype': 'state', 'name': 'Skopje Region', 'display_name': 'Skopje Region, North Macedonia', 'address': {'state': 'Skopje Region', 'country': 'North Macedonia', 'country_code': 'mk'}, 'extratags': {'wikidata': 'Q21115'}}, 'bbox': [21.1498886, 41.7037948, 21.8213797, 42.2491922], 'geometry': {'type': 'Point', 'coordinates': [21.462439778839435, 41.97656105]}}]} \n",
      "\n",
      "6 zooom extratags={'wikidata': 'Q21115'}\n",
      "6 zoom 도시코드: None \n",
      "\n",
      "response status 200: https://nominatim.openstreetmap.org/reverse.php?lat=41.99626&lon=21.55224&zoom=8&format=geojson&accept-language=en&extratags=1\n",
      "{'type': 'FeatureCollection', 'licence': 'Data © OpenStreetMap contributors, ODbL 1.0. https://osm.org/copyright', 'features': [{'type': 'Feature', 'properties': {'place_id': 282690705, 'osm_type': 'relation', 'osm_id': 2460455, 'place_rank': 8, 'category': 'boundary', 'type': 'administrative', 'importance': 0.40206279738389133, 'addresstype': 'state', 'name': 'Skopje Region', 'display_name': 'Skopje Region, North Macedonia', 'address': {'state': 'Skopje Region', 'country': 'North Macedonia', 'country_code': 'mk'}, 'extratags': {'wikidata': 'Q21115'}}, 'bbox': [21.1498886, 41.7037948, 21.8213797, 42.2491922], 'geometry': {'type': 'Point', 'coordinates': [21.462439778839435, 41.97656105]}}]} \n",
      "\n",
      "8 zooom extratags={'wikidata': 'Q21115'}\n",
      "8 zoom 도시코드: None \n",
      "\n",
      "response status 200: https://nominatim.openstreetmap.org/reverse.php?lat=41.99626&lon=21.55224&zoom=10&format=geojson&accept-language=en&extratags=1\n",
      "{'type': 'FeatureCollection', 'licence': 'Data © OpenStreetMap contributors, ODbL 1.0. https://osm.org/copyright', 'features': [{'type': 'Feature', 'properties': {'place_id': 283367633, 'osm_type': 'relation', 'osm_id': 6958278, 'place_rank': 16, 'category': 'boundary', 'type': 'administrative', 'importance': 0.35, 'addresstype': 'city', 'name': 'Ilinden', 'display_name': 'Ilinden, Municipality of Ilinden, Skopje Region, 1041, North Macedonia', 'address': {'village': 'Ilinden', 'municipality': 'Municipality of Ilinden', 'state': 'Skopje Region', 'postcode': '1041', 'country': 'North Macedonia', 'country_code': 'mk'}, 'extratags': {'place': 'village', 'linked_place': 'village'}}, 'bbox': [21.5293944, 41.975576, 21.6007157, 42.0192085], 'geometry': {'type': 'Point', 'coordinates': [21.5775059, 41.993768]}}]} \n",
      "\n",
      "10 zooom extratags={'place': 'village', 'linked_place': 'village'}\n",
      "10 zoom 도시코드: None \n",
      "\n",
      "------ \n",
      "\n",
      "\n",
      "## geo Search start [id=330990, lat=38.423116, long=14.963912, title=불카노 테르메 레지던스] ##\n",
      "response status 200: https://nominatim.openstreetmap.org/reverse.php?lat=38.423116&lon=14.963912&zoom=5&format=geojson&accept-language=en&extratags=1\n",
      "{'type': 'FeatureCollection', 'licence': 'Data © OpenStreetMap contributors, ODbL 1.0. https://osm.org/copyright', 'features': [{'type': 'Feature', 'properties': {'place_id': 282166189, 'osm_type': 'relation', 'osm_id': 39152, 'place_rank': 8, 'category': 'boundary', 'type': 'administrative', 'importance': 0.7064403209694491, 'addresstype': 'state', 'name': 'Sicily', 'display_name': 'Sicily, Italy', 'address': {'state': 'Sicily', 'country': 'Italy', 'country_code': 'it'}, 'extratags': {'ref:nuts': 'ITG1', 'wikidata': 'Q1460', 'ISO3166-2': 'IT-82', 'ref:ISTAT': '19', 'wikipedia': 'it:Sicilia', 'population': '4840876', 'ref:nuts:2': 'ITG1', 'linked_place': 'state'}}, 'bbox': [11.9258571, 35.4929521, 15.6530796, 38.8176638], 'geometry': {'type': 'Point', 'coordinates': [14.155048, 37.587794]}}]} \n",
      "\n",
      "5 zooom extratags={'ref:nuts': 'ITG1', 'wikidata': 'Q1460', 'ISO3166-2': 'IT-82', 'ref:ISTAT': '19', 'wikipedia': 'it:Sicilia', 'population': '4840876', 'ref:nuts:2': 'ITG1', 'linked_place': 'state'}\n",
      "5 zoom 도시코드: IT-82 \n",
      "\n",
      "### Elasticsearch update ios3166-2 code  : IT-82 ###\n",
      "------ \n",
      "\n",
      "\n",
      "## geo Search start [id=330998, lat=38.418489, long=14.956388, title=레 사블르 누아 & 스파] ##\n",
      "response status 200: https://nominatim.openstreetmap.org/reverse.php?lat=38.418489&lon=14.956388&zoom=5&format=geojson&accept-language=en&extratags=1\n",
      "{'type': 'FeatureCollection', 'licence': 'Data © OpenStreetMap contributors, ODbL 1.0. https://osm.org/copyright', 'features': [{'type': 'Feature', 'properties': {'place_id': 282166189, 'osm_type': 'relation', 'osm_id': 39152, 'place_rank': 8, 'category': 'boundary', 'type': 'administrative', 'importance': 0.7064403209694491, 'addresstype': 'state', 'name': 'Sicily', 'display_name': 'Sicily, Italy', 'address': {'state': 'Sicily', 'country': 'Italy', 'country_code': 'it'}, 'extratags': {'ref:nuts': 'ITG1', 'wikidata': 'Q1460', 'ISO3166-2': 'IT-82', 'ref:ISTAT': '19', 'wikipedia': 'it:Sicilia', 'population': '4840876', 'ref:nuts:2': 'ITG1', 'linked_place': 'state'}}, 'bbox': [11.9258571, 35.4929521, 15.6530796, 38.8176638], 'geometry': {'type': 'Point', 'coordinates': [14.155048, 37.587794]}}]} \n",
      "\n",
      "5 zooom extratags={'ref:nuts': 'ITG1', 'wikidata': 'Q1460', 'ISO3166-2': 'IT-82', 'ref:ISTAT': '19', 'wikipedia': 'it:Sicilia', 'population': '4840876', 'ref:nuts:2': 'ITG1', 'linked_place': 'state'}\n",
      "5 zoom 도시코드: IT-82 \n",
      "\n",
      "### Elasticsearch update ios3166-2 code  : IT-82 ###\n",
      "------ \n",
      "\n",
      "\n",
      "## geo Search start [id=331006, lat=41.91396, long=12.522716, title=패션 럭스 B&B] ##\n",
      "response status 200: https://nominatim.openstreetmap.org/reverse.php?lat=41.91396&lon=12.522716&zoom=5&format=geojson&accept-language=en&extratags=1\n",
      "{'type': 'FeatureCollection', 'licence': 'Data © OpenStreetMap contributors, ODbL 1.0. https://osm.org/copyright', 'features': [{'type': 'Feature', 'properties': {'place_id': 282276390, 'osm_type': 'relation', 'osm_id': 40784, 'place_rank': 8, 'category': 'boundary', 'type': 'administrative', 'importance': 0.6687340711539456, 'addresstype': 'state', 'name': 'Lazio', 'display_name': 'Lazio, Italy', 'address': {'state': 'Lazio', 'country': 'Italy', 'country_code': 'it'}, 'extratags': {'ref:nuts': 'ITI4', 'wikidata': 'Q1282', 'ISO3166-2': 'IT-62', 'ref:ISTAT': '12', 'wikipedia': 'it:Lazio', 'population': '5728688', 'ref:nuts:2': 'ITI4', 'linked_place': 'state', 'wikimedia_commons': 'Category:Lazio'}}, 'bbox': [11.4491695, 40.7849283, 14.0276445, 42.840269], 'geometry': {'type': 'Point', 'coordinates': [12.7662312, 41.9808038]}}]} \n",
      "\n",
      "5 zooom extratags={'ref:nuts': 'ITI4', 'wikidata': 'Q1282', 'ISO3166-2': 'IT-62', 'ref:ISTAT': '12', 'wikipedia': 'it:Lazio', 'population': '5728688', 'ref:nuts:2': 'ITI4', 'linked_place': 'state', 'wikimedia_commons': 'Category:Lazio'}\n",
      "5 zoom 도시코드: IT-62 \n",
      "\n",
      "### Elasticsearch update ios3166-2 code  : IT-62 ###\n",
      "------ \n",
      "\n",
      "\n",
      "## geo Search start [id=331016, lat=41.90651, long=12.450368, title=바티카노84] ##\n",
      "response status 200: https://nominatim.openstreetmap.org/reverse.php?lat=41.90651&lon=12.450368&zoom=5&format=geojson&accept-language=en&extratags=1\n",
      "{'type': 'FeatureCollection', 'licence': 'Data © OpenStreetMap contributors, ODbL 1.0. https://osm.org/copyright', 'features': [{'type': 'Feature', 'properties': {'place_id': 282276390, 'osm_type': 'relation', 'osm_id': 40784, 'place_rank': 8, 'category': 'boundary', 'type': 'administrative', 'importance': 0.6687340711539456, 'addresstype': 'state', 'name': 'Lazio', 'display_name': 'Lazio, Italy', 'address': {'state': 'Lazio', 'country': 'Italy', 'country_code': 'it'}, 'extratags': {'ref:nuts': 'ITI4', 'wikidata': 'Q1282', 'ISO3166-2': 'IT-62', 'ref:ISTAT': '12', 'wikipedia': 'it:Lazio', 'population': '5728688', 'ref:nuts:2': 'ITI4', 'linked_place': 'state', 'wikimedia_commons': 'Category:Lazio'}}, 'bbox': [11.4491695, 40.7849283, 14.0276445, 42.840269], 'geometry': {'type': 'Point', 'coordinates': [12.7662312, 41.9808038]}}]} \n",
      "\n",
      "5 zooom extratags={'ref:nuts': 'ITI4', 'wikidata': 'Q1282', 'ISO3166-2': 'IT-62', 'ref:ISTAT': '12', 'wikipedia': 'it:Lazio', 'population': '5728688', 'ref:nuts:2': 'ITI4', 'linked_place': 'state', 'wikimedia_commons': 'Category:Lazio'}\n",
      "5 zoom 도시코드: IT-62 \n",
      "\n",
      "### Elasticsearch update ios3166-2 code  : IT-62 ###\n",
      "------ \n",
      "\n",
      "\n",
      "## geo Search start [id=331023, lat=41.89742, long=12.44299, title=롬 바티칸 에덴 B&B] ##\n",
      "response status 200: https://nominatim.openstreetmap.org/reverse.php?lat=41.89742&lon=12.44299&zoom=5&format=geojson&accept-language=en&extratags=1\n",
      "{'type': 'FeatureCollection', 'licence': 'Data © OpenStreetMap contributors, ODbL 1.0. https://osm.org/copyright', 'features': [{'type': 'Feature', 'properties': {'place_id': 282276390, 'osm_type': 'relation', 'osm_id': 40784, 'place_rank': 8, 'category': 'boundary', 'type': 'administrative', 'importance': 0.6687340711539456, 'addresstype': 'state', 'name': 'Lazio', 'display_name': 'Lazio, Italy', 'address': {'state': 'Lazio', 'country': 'Italy', 'country_code': 'it'}, 'extratags': {'ref:nuts': 'ITI4', 'wikidata': 'Q1282', 'ISO3166-2': 'IT-62', 'ref:ISTAT': '12', 'wikipedia': 'it:Lazio', 'population': '5728688', 'ref:nuts:2': 'ITI4', 'linked_place': 'state', 'wikimedia_commons': 'Category:Lazio'}}, 'bbox': [11.4491695, 40.7849283, 14.0276445, 42.840269], 'geometry': {'type': 'Point', 'coordinates': [12.7662312, 41.9808038]}}]} \n",
      "\n",
      "5 zooom extratags={'ref:nuts': 'ITI4', 'wikidata': 'Q1282', 'ISO3166-2': 'IT-62', 'ref:ISTAT': '12', 'wikipedia': 'it:Lazio', 'population': '5728688', 'ref:nuts:2': 'ITI4', 'linked_place': 'state', 'wikimedia_commons': 'Category:Lazio'}\n",
      "5 zoom 도시코드: IT-62 \n",
      "\n",
      "### Elasticsearch update ios3166-2 code  : IT-62 ###\n",
      "------ \n",
      "\n",
      "\n",
      "# 종료 시간 2022-01-21 03:17:21.745783\n"
     ]
    }
   ],
   "source": [
    "import requests\n",
    "import json\n",
    "import datetime\n",
    "\n",
    "def send_api(url, method, jsonBody={}):\n",
    "    headers = {'Content-Type': 'application/json', 'charset': 'UTF-8', 'Accept': '*/*'}\n",
    "    try:\n",
    "        if method == 'GET':\n",
    "            response = requests.get(url, headers=headers)\n",
    "        elif method == 'POST':\n",
    "            response = requests.post(url, headers=headers, data=json.dumps(jsonBody, ensure_ascii=False, indent=\"\\t\"))\n",
    "        print(\"response status %r: %s\" %(response.status_code, url)) \n",
    "        return response.text\n",
    "    except Exception as ex:\n",
    "        print(ex)\n",
    "        \n",
    "def reversGeocoder(lat, long, zoom):\n",
    "    queryString = \"https://nominatim.openstreetmap.org/reverse.php?lat=%s&lon=%s&zoom=%s&format=geojson&accept-language=en&extratags=1\" %(lat, long, zoom)\n",
    "    location = json.loads(send_api(queryString, \"GET\"))\n",
    "    print(location,\"\\n\")\n",
    "    \n",
    "    extratags = location[\"features\"][0][\"properties\"][\"extratags\"]\n",
    "    print(\"%s zooom extratags=%s\" %(zoom, extratags))\n",
    "    cityCode = extratags.get(\"ISO3166-2\", None)\n",
    "    print(\"%s zoom 도시코드: %s \\n\" %(zoom, cityCode))\n",
    "    \n",
    "    return cityCode\n",
    "\n",
    "\n",
    "now = datetime.datetime.now()\n",
    "print(\"# 시작 시간 %s\" %now)\n",
    "\n",
    "for cnt in range(1, 2):\n",
    "    print(\"## cnt= %s\" %cnt)\n",
    "    query={\n",
    "        \"bool\":{\n",
    "            \"filter\":{\n",
    "              \"exists\": {\n",
    "                \"field\": \"location\"\n",
    "              }\n",
    "            },\n",
    "            \"must_not\": {\n",
    "              \"exists\": {\n",
    "                \"field\": \"iso3166-2\"\n",
    "              }\n",
    "            }\n",
    "        }\n",
    "    }\n",
    "    res = es.search(index=\"p-hotel-kimjy\", size=10000, query=query)\n",
    "    # print(res)\n",
    "\n",
    "    for result in res[\"hits\"][\"hits\"]:\n",
    "        # print(result)\n",
    "        id = result[\"_id\"]\n",
    "        sub_lat = result[\"_source\"][\"location\"][\"lat\"]\n",
    "        sub_long =  result[\"_source\"][\"location\"][\"lon\"]\n",
    "        title =  result[\"_source\"][\"name\"]\n",
    "        print(\"## geo Search start [id=%s, lat=%s, long=%s, title=%s] ##\" %(id, sub_lat, sub_long, title) )\n",
    "\n",
    "        if sub_lat==0 and sub_long==0 :\n",
    "            continue\n",
    "\n",
    "        # zoom 5 (state) 수준의 위치 검사\n",
    "        cityCode = reversGeocoder(sub_lat, sub_long, 5)\n",
    "\n",
    "        # zoom 6 (region) 수준의 위치 검사\n",
    "        if cityCode is None:\n",
    "            cityCode=reversGeocoder(sub_lat, sub_long, 6)\n",
    "\n",
    "        # zoom 8 (county) 수준의 위치 검사\n",
    "        if cityCode is None:\n",
    "            cityCode=reversGeocoder(sub_lat, sub_long, 8)\n",
    "\n",
    "        # zoom 10 (city) 수준의 위치 검사\n",
    "        if cityCode is None:\n",
    "            cityCode=reversGeocoder(sub_lat, sub_long, 10)\n",
    "\n",
    "        if cityCode is not None:\n",
    "            updatedoc={\n",
    "                \"doc\":{\n",
    "                    \"iso3166-2\": cityCode\n",
    "                }\n",
    "            }\n",
    "            print(\"### Elasticsearch update ios3166-2 code  : %s ###\" %cityCode)\n",
    "            es.update(index=\"p-hotel-kimjy\", id=id, body=updateBody)\n",
    "\n",
    "        print(\"------ \\n\\n\")\n",
    "    \n",
    "now = datetime.datetime.now()\n",
    "print(\"# 종료 시간 %s\" %now)\n"
   ]
  },
  {
   "cell_type": "code",
   "execution_count": null,
   "id": "27ee97de",
   "metadata": {},
   "outputs": [],
   "source": []
  }
 ],
 "metadata": {
  "kernelspec": {
   "display_name": "Python 3 (ipykernel)",
   "language": "python",
   "name": "python3"
  },
  "language_info": {
   "codemirror_mode": {
    "name": "ipython",
    "version": 3
   },
   "file_extension": ".py",
   "mimetype": "text/x-python",
   "name": "python",
   "nbconvert_exporter": "python",
   "pygments_lexer": "ipython3",
   "version": "3.9.7"
  }
 },
 "nbformat": 4,
 "nbformat_minor": 5
}
